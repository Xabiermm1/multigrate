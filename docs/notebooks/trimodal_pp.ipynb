{
 "cells": [
  {
   "cell_type": "markdown",
   "id": "66c305f3",
   "metadata": {},
   "source": [
    "# Trimodal preprocessing"
   ]
  },
  {
   "cell_type": "code",
   "execution_count": 1,
   "id": "e99fa33d",
   "metadata": {},
   "outputs": [],
   "source": [
    "import warnings\n",
    "warnings.filterwarnings('ignore')\n",
    "\n",
    "import scanpy as sc\n",
    "import numpy as np\n",
    "import pandas as pd\n",
    "import anndata as ad\n",
    "import muon"
   ]
  },
  {
   "cell_type": "markdown",
   "id": "fee0506d",
   "metadata": {},
   "source": [
    "## Read the data"
   ]
  },
  {
   "cell_type": "code",
   "execution_count": 2,
   "id": "c4bd088c",
   "metadata": {},
   "outputs": [
    {
     "data": {
      "text/plain": [
       "AnnData object with n_obs × n_vars = 69249 × 13431\n",
       "    obs: 'GEX_pct_counts_mt', 'GEX_n_counts', 'GEX_n_genes', 'GEX_size_factors', 'GEX_phase', 'ATAC_nCount_peaks', 'ATAC_atac_fragments', 'ATAC_reads_in_peaks_frac', 'ATAC_blacklist_fraction', 'ATAC_nucleosome_signal', 'cell_type', 'batch', 'ATAC_pseudotime_order', 'GEX_pseudotime_order', 'Samplename', 'Site', 'DonorNumber', 'Modality', 'VendorLot', 'DonorID', 'DonorAge', 'DonorBMI', 'DonorBloodType', 'DonorRace', 'Ethnicity', 'DonorGender', 'QCMeds', 'DonorSmoker'\n",
       "    var: 'feature_types', 'gene_id', 'highly_variable', 'means', 'dispersions', 'dispersions_norm', 'highly_variable_nbatches', 'highly_variable_intersection'\n",
       "    uns: 'ATAC_gene_activity_var_names', 'dataset_id', 'genome', 'hvg', 'log1p', 'organism'\n",
       "    obsm: 'ATAC_gene_activity', 'ATAC_lsi_full', 'ATAC_lsi_red', 'ATAC_umap', 'GEX_X_pca', 'GEX_X_umap'\n",
       "    layers: 'counts'"
      ]
     },
     "execution_count": 2,
     "metadata": {},
     "output_type": "execute_result"
    }
   ],
   "source": [
    "rna_multiome = sc.read('data/multiome/rna_multiome.h5ad')\n",
    "rna_multiome"
   ]
  },
  {
   "cell_type": "code",
   "execution_count": 3,
   "id": "3f0cb33c",
   "metadata": {},
   "outputs": [
    {
     "data": {
      "text/plain": [
       "AnnData object with n_obs × n_vars = 90261 × 13953\n",
       "    obs: 'GEX_n_genes_by_counts', 'GEX_pct_counts_mt', 'GEX_size_factors', 'GEX_phase', 'ADT_n_antibodies_by_counts', 'ADT_total_counts', 'ADT_iso_count', 'cell_type', 'batch', 'ADT_pseudotime_order', 'GEX_pseudotime_order', 'Samplename', 'Site', 'DonorNumber', 'Modality', 'VendorLot', 'DonorID', 'DonorAge', 'DonorBMI', 'DonorBloodType', 'DonorRace', 'Ethnicity', 'DonorGender', 'QCMeds', 'DonorSmoker', 'is_train'\n",
       "    var: 'feature_types', 'gene_id', 'highly_variable', 'means', 'dispersions', 'dispersions_norm', 'highly_variable_nbatches', 'highly_variable_intersection'\n",
       "    uns: 'dataset_id', 'genome', 'hvg', 'log1p', 'organism'\n",
       "    obsm: 'ADT_X_pca', 'ADT_X_umap', 'ADT_isotype_controls', 'GEX_X_pca', 'GEX_X_umap'\n",
       "    layers: 'counts'"
      ]
     },
     "execution_count": 3,
     "metadata": {},
     "output_type": "execute_result"
    }
   ],
   "source": [
    "rna_cite = sc.read('data/cite/rna_cite.h5ad')\n",
    "rna_cite"
   ]
  },
  {
   "cell_type": "code",
   "execution_count": 4,
   "id": "04ff1ecf",
   "metadata": {
    "scrolled": true
   },
   "outputs": [
    {
     "data": {
      "text/plain": [
       "AnnData object with n_obs × n_vars = 69249 × 20000\n",
       "    obs: 'GEX_pct_counts_mt', 'GEX_n_counts', 'GEX_n_genes', 'GEX_size_factors', 'GEX_phase', 'ATAC_nCount_peaks', 'ATAC_atac_fragments', 'ATAC_reads_in_peaks_frac', 'ATAC_blacklist_fraction', 'ATAC_nucleosome_signal', 'cell_type', 'batch', 'ATAC_pseudotime_order', 'GEX_pseudotime_order', 'Samplename', 'Site', 'DonorNumber', 'Modality', 'VendorLot', 'DonorID', 'DonorAge', 'DonorBMI', 'DonorBloodType', 'DonorRace', 'Ethnicity', 'DonorGender', 'QCMeds', 'DonorSmoker'\n",
       "    var: 'feature_types', 'gene_id', 'highly_variable', 'means', 'dispersions', 'dispersions_norm', 'highly_variable_nbatches', 'highly_variable_intersection'\n",
       "    uns: 'ATAC_gene_activity_var_names', 'dataset_id', 'genome', 'hvg', 'log1p', 'organism'\n",
       "    obsm: 'ATAC_gene_activity', 'ATAC_lsi_full', 'ATAC_lsi_red', 'ATAC_umap', 'GEX_X_pca', 'GEX_X_umap'\n",
       "    layers: 'counts', 'log-norm', 'tf-idf'"
      ]
     },
     "execution_count": 4,
     "metadata": {},
     "output_type": "execute_result"
    }
   ],
   "source": [
    "atac_hvf = sc.read('data/multiome/atac_hvf.h5ad')\n",
    "atac_hvf"
   ]
  },
  {
   "cell_type": "code",
   "execution_count": 5,
   "id": "f432926f",
   "metadata": {},
   "outputs": [
    {
     "data": {
      "text/plain": [
       "AnnData object with n_obs × n_vars = 90261 × 134\n",
       "    obs: 'GEX_n_genes_by_counts', 'GEX_pct_counts_mt', 'GEX_size_factors', 'GEX_phase', 'ADT_n_antibodies_by_counts', 'ADT_total_counts', 'ADT_iso_count', 'cell_type', 'batch', 'ADT_pseudotime_order', 'GEX_pseudotime_order', 'Samplename', 'Site', 'DonorNumber', 'Modality', 'VendorLot', 'DonorID', 'DonorAge', 'DonorBMI', 'DonorBloodType', 'DonorRace', 'Ethnicity', 'DonorGender', 'QCMeds', 'DonorSmoker', 'is_train'\n",
       "    var: 'feature_types', 'gene_id'\n",
       "    uns: 'dataset_id', 'genome', 'organism'\n",
       "    obsm: 'ADT_X_pca', 'ADT_X_umap', 'ADT_isotype_controls', 'GEX_X_pca', 'GEX_X_umap'\n",
       "    layers: 'clr', 'counts'"
      ]
     },
     "execution_count": 5,
     "metadata": {},
     "output_type": "execute_result"
    }
   ],
   "source": [
    "adt = sc.read('data/cite/adt.h5ad')\n",
    "adt"
   ]
  },
  {
   "cell_type": "markdown",
   "id": "5ae1ecdf",
   "metadata": {},
   "source": [
    "## Add harmonized cell types"
   ]
  },
  {
   "cell_type": "markdown",
   "id": "35aa8ac7",
   "metadata": {},
   "source": [
    "### Multiome"
   ]
  },
  {
   "cell_type": "code",
   "execution_count": 6,
   "id": "5752bbd4",
   "metadata": {},
   "outputs": [
    {
     "data": {
      "text/html": [
       "<div>\n",
       "<style scoped>\n",
       "    .dataframe tbody tr th:only-of-type {\n",
       "        vertical-align: middle;\n",
       "    }\n",
       "\n",
       "    .dataframe tbody tr th {\n",
       "        vertical-align: top;\n",
       "    }\n",
       "\n",
       "    .dataframe thead th {\n",
       "        text-align: right;\n",
       "    }\n",
       "</style>\n",
       "<table border=\"1\" class=\"dataframe\">\n",
       "  <thead>\n",
       "    <tr style=\"text-align: right;\">\n",
       "      <th></th>\n",
       "      <th>l1_cell_type</th>\n",
       "      <th>l2_cell_type</th>\n",
       "    </tr>\n",
       "  </thead>\n",
       "  <tbody>\n",
       "    <tr>\n",
       "      <th>s1d1_multiome:TAGTTGTCACCCTCAC</th>\n",
       "      <td>B</td>\n",
       "      <td>Naive CD20+ B</td>\n",
       "    </tr>\n",
       "    <tr>\n",
       "      <th>s1d1_multiome:CTATGGCCATAACGGG</th>\n",
       "      <td>Myeloid</td>\n",
       "      <td>CD14+ Mono</td>\n",
       "    </tr>\n",
       "    <tr>\n",
       "      <th>s1d1_multiome:CCGCACACAGGTTAAA</th>\n",
       "      <td>T</td>\n",
       "      <td>CD8+ T activated</td>\n",
       "    </tr>\n",
       "    <tr>\n",
       "      <th>s1d1_multiome:TCATTTGGTAATGGAA</th>\n",
       "      <td>T</td>\n",
       "      <td>CD8+ T activated</td>\n",
       "    </tr>\n",
       "    <tr>\n",
       "      <th>s1d1_multiome:ACCACATAGGTGTCCA</th>\n",
       "      <td>Myeloid</td>\n",
       "      <td>CD16+ Mono</td>\n",
       "    </tr>\n",
       "    <tr>\n",
       "      <th>...</th>\n",
       "      <td>...</td>\n",
       "      <td>...</td>\n",
       "    </tr>\n",
       "    <tr>\n",
       "      <th>s4d9_multiome:AAACCGCGTTTGAGGC</th>\n",
       "      <td>T</td>\n",
       "      <td>CD8+ T naive</td>\n",
       "    </tr>\n",
       "    <tr>\n",
       "      <th>s4d9_multiome:TGACTTAAGTTCCCGT</th>\n",
       "      <td>Other Lympoid</td>\n",
       "      <td>Early Lymphoid</td>\n",
       "    </tr>\n",
       "    <tr>\n",
       "      <th>s4d9_multiome:GCTGTACCACCGTTCC</th>\n",
       "      <td>T</td>\n",
       "      <td>CD8+ T activated</td>\n",
       "    </tr>\n",
       "    <tr>\n",
       "      <th>s4d9_multiome:ACACTTGCAACTAGAA</th>\n",
       "      <td>Myeloid</td>\n",
       "      <td>cDC2</td>\n",
       "    </tr>\n",
       "    <tr>\n",
       "      <th>s4d9_multiome:CACTTAAAGTCTGGGC</th>\n",
       "      <td>B</td>\n",
       "      <td>Naive CD20+ B</td>\n",
       "    </tr>\n",
       "  </tbody>\n",
       "</table>\n",
       "<p>69247 rows × 2 columns</p>\n",
       "</div>"
      ],
      "text/plain": [
       "                                 l1_cell_type      l2_cell_type\n",
       "s1d1_multiome:TAGTTGTCACCCTCAC              B     Naive CD20+ B\n",
       "s1d1_multiome:CTATGGCCATAACGGG        Myeloid        CD14+ Mono\n",
       "s1d1_multiome:CCGCACACAGGTTAAA              T  CD8+ T activated\n",
       "s1d1_multiome:TCATTTGGTAATGGAA              T  CD8+ T activated\n",
       "s1d1_multiome:ACCACATAGGTGTCCA        Myeloid        CD16+ Mono\n",
       "...                                       ...               ...\n",
       "s4d9_multiome:AAACCGCGTTTGAGGC              T      CD8+ T naive\n",
       "s4d9_multiome:TGACTTAAGTTCCCGT  Other Lympoid    Early Lymphoid\n",
       "s4d9_multiome:GCTGTACCACCGTTCC              T  CD8+ T activated\n",
       "s4d9_multiome:ACACTTGCAACTAGAA        Myeloid              cDC2\n",
       "s4d9_multiome:CACTTAAAGTCTGGGC              B     Naive CD20+ B\n",
       "\n",
       "[69247 rows x 2 columns]"
      ]
     },
     "execution_count": 6,
     "metadata": {},
     "output_type": "execute_result"
    }
   ],
   "source": [
    "multiome_celltypes = pd.read_csv('data/trimodal/multiome_harmonized_celltypes.csv', index_col=0)\n",
    "multiome_celltypes"
   ]
  },
  {
   "cell_type": "code",
   "execution_count": 7,
   "id": "fd296194",
   "metadata": {},
   "outputs": [
    {
     "data": {
      "text/plain": [
       "Index(['TAGTTGTCACCCTCAC-1-s1d1', 'CTATGGCCATAACGGG-1-s1d1',\n",
       "       'CCGCACACAGGTTAAA-1-s1d1', 'TCATTTGGTAATGGAA-1-s1d1',\n",
       "       'ACCACATAGGTGTCCA-1-s1d1', 'TGGATTGGTTTGCGAA-1-s1d1',\n",
       "       'GTGAGCGAGTAAAGGT-1-s1d1', 'GACTTAGGTTGCGCGA-1-s1d1',\n",
       "       'GCCTTACTCGTTACAA-1-s1d1', 'GTAAGGTCAATAACCT-1-s1d1',\n",
       "       ...\n",
       "       'AGCATCCCACAGAACG-12-s4d9', 'ATTGAAGCACATTGCA-12-s4d9',\n",
       "       'CTATTCAGTTGTGATG-12-s4d9', 'TGAACAACAGTGAACG-12-s4d9',\n",
       "       'CGATTCCTCCTGGCTT-12-s4d9', 'AAACCGCGTTTGAGGC-12-s4d9',\n",
       "       'TGACTTAAGTTCCCGT-12-s4d9', 'GCTGTACCACCGTTCC-12-s4d9',\n",
       "       'ACACTTGCAACTAGAA-12-s4d9', 'CACTTAAAGTCTGGGC-12-s4d9'],\n",
       "      dtype='object', length=69249)"
      ]
     },
     "execution_count": 7,
     "metadata": {},
     "output_type": "execute_result"
    }
   ],
   "source": [
    "rna_multiome.obs_names"
   ]
  },
  {
   "cell_type": "code",
   "execution_count": 8,
   "id": "0ef6205b",
   "metadata": {},
   "outputs": [],
   "source": [
    "new_multiome_obs_names = []\n",
    "for name in rna_multiome.obs_names:\n",
    "    parts = name.split('-')\n",
    "    barcode = parts[0]\n",
    "    batch = parts[-1]\n",
    "    name = batch + \"_multiome:\" + parts[0]\n",
    "    new_multiome_obs_names.append(name)"
   ]
  },
  {
   "cell_type": "code",
   "execution_count": 9,
   "id": "b8160396",
   "metadata": {},
   "outputs": [],
   "source": [
    "rna_multiome.obs_names = new_multiome_obs_names\n",
    "atac_hvf.obs_names = new_multiome_obs_names"
   ]
  },
  {
   "cell_type": "code",
   "execution_count": 10,
   "id": "16e6393a",
   "metadata": {
    "scrolled": true
   },
   "outputs": [
    {
     "data": {
      "text/plain": [
       "AnnData object with n_obs × n_vars = 69247 × 13431\n",
       "    obs: 'GEX_pct_counts_mt', 'GEX_n_counts', 'GEX_n_genes', 'GEX_size_factors', 'GEX_phase', 'ATAC_nCount_peaks', 'ATAC_atac_fragments', 'ATAC_reads_in_peaks_frac', 'ATAC_blacklist_fraction', 'ATAC_nucleosome_signal', 'cell_type', 'batch', 'ATAC_pseudotime_order', 'GEX_pseudotime_order', 'Samplename', 'Site', 'DonorNumber', 'Modality', 'VendorLot', 'DonorID', 'DonorAge', 'DonorBMI', 'DonorBloodType', 'DonorRace', 'Ethnicity', 'DonorGender', 'QCMeds', 'DonorSmoker', 'l1_cell_type', 'l2_cell_type'\n",
       "    var: 'feature_types', 'gene_id', 'highly_variable', 'means', 'dispersions', 'dispersions_norm', 'highly_variable_nbatches', 'highly_variable_intersection'\n",
       "    uns: 'ATAC_gene_activity_var_names', 'dataset_id', 'genome', 'hvg', 'log1p', 'organism'\n",
       "    obsm: 'ATAC_gene_activity', 'ATAC_lsi_full', 'ATAC_lsi_red', 'ATAC_umap', 'GEX_X_pca', 'GEX_X_umap'\n",
       "    layers: 'counts'"
      ]
     },
     "execution_count": 10,
     "metadata": {},
     "output_type": "execute_result"
    }
   ],
   "source": [
    "rna_multiome = rna_multiome[multiome_celltypes.index].copy()\n",
    "rna_multiome.obs = rna_multiome.obs.join(multiome_celltypes)\n",
    "rna_multiome"
   ]
  },
  {
   "cell_type": "markdown",
   "id": "5b6901da",
   "metadata": {},
   "source": [
    "### CITE"
   ]
  },
  {
   "cell_type": "code",
   "execution_count": 11,
   "id": "0db5054a",
   "metadata": {},
   "outputs": [
    {
     "data": {
      "text/html": [
       "<div>\n",
       "<style scoped>\n",
       "    .dataframe tbody tr th:only-of-type {\n",
       "        vertical-align: middle;\n",
       "    }\n",
       "\n",
       "    .dataframe tbody tr th {\n",
       "        vertical-align: top;\n",
       "    }\n",
       "\n",
       "    .dataframe thead th {\n",
       "        text-align: right;\n",
       "    }\n",
       "</style>\n",
       "<table border=\"1\" class=\"dataframe\">\n",
       "  <thead>\n",
       "    <tr style=\"text-align: right;\">\n",
       "      <th></th>\n",
       "      <th>l1_cell_type</th>\n",
       "      <th>l2_cell_type</th>\n",
       "    </tr>\n",
       "  </thead>\n",
       "  <tbody>\n",
       "    <tr>\n",
       "      <th>s1d1_cite:GCATTAGCATAAGCGG</th>\n",
       "      <td>B</td>\n",
       "      <td>Naive CD20+ B</td>\n",
       "    </tr>\n",
       "    <tr>\n",
       "      <th>s1d1_cite:TACAGGTGTTAGAGTA</th>\n",
       "      <td>Myeloid</td>\n",
       "      <td>CD14+ Mono</td>\n",
       "    </tr>\n",
       "    <tr>\n",
       "      <th>s1d1_cite:AGGATCTAGGTCTACT</th>\n",
       "      <td>B</td>\n",
       "      <td>Naive CD20+ B</td>\n",
       "    </tr>\n",
       "    <tr>\n",
       "      <th>s1d1_cite:GTAGAAAGTGACACAG</th>\n",
       "      <td>HSC</td>\n",
       "      <td>HSC</td>\n",
       "    </tr>\n",
       "    <tr>\n",
       "      <th>s1d1_cite:TCCGAAAAGGATCATA</th>\n",
       "      <td>Erythroid</td>\n",
       "      <td>Reticulocyte</td>\n",
       "    </tr>\n",
       "    <tr>\n",
       "      <th>...</th>\n",
       "      <td>...</td>\n",
       "      <td>...</td>\n",
       "    </tr>\n",
       "    <tr>\n",
       "      <th>s4d9_cite:GAATCACCACGGAAGT</th>\n",
       "      <td>Other Lympoid</td>\n",
       "      <td>Early Lymphoid</td>\n",
       "    </tr>\n",
       "    <tr>\n",
       "      <th>s4d9_cite:GCTGGGTGTACGGATG</th>\n",
       "      <td>T</td>\n",
       "      <td>CD8+ T naive</td>\n",
       "    </tr>\n",
       "    <tr>\n",
       "      <th>s4d9_cite:TCGAAGTGTGACAGGT</th>\n",
       "      <td>T</td>\n",
       "      <td>Other T</td>\n",
       "    </tr>\n",
       "    <tr>\n",
       "      <th>s4d9_cite:GCAGGCTGTTGCATAC</th>\n",
       "      <td>T</td>\n",
       "      <td>CD4+ T naive</td>\n",
       "    </tr>\n",
       "    <tr>\n",
       "      <th>s4d9_cite:ACGTAACAGGTCTACT</th>\n",
       "      <td>T</td>\n",
       "      <td>CD8+ T naive</td>\n",
       "    </tr>\n",
       "  </tbody>\n",
       "</table>\n",
       "<p>90261 rows × 2 columns</p>\n",
       "</div>"
      ],
      "text/plain": [
       "                             l1_cell_type    l2_cell_type\n",
       "s1d1_cite:GCATTAGCATAAGCGG              B   Naive CD20+ B\n",
       "s1d1_cite:TACAGGTGTTAGAGTA        Myeloid      CD14+ Mono\n",
       "s1d1_cite:AGGATCTAGGTCTACT              B   Naive CD20+ B\n",
       "s1d1_cite:GTAGAAAGTGACACAG            HSC             HSC\n",
       "s1d1_cite:TCCGAAAAGGATCATA      Erythroid    Reticulocyte\n",
       "...                                   ...             ...\n",
       "s4d9_cite:GAATCACCACGGAAGT  Other Lympoid  Early Lymphoid\n",
       "s4d9_cite:GCTGGGTGTACGGATG              T    CD8+ T naive\n",
       "s4d9_cite:TCGAAGTGTGACAGGT              T         Other T\n",
       "s4d9_cite:GCAGGCTGTTGCATAC              T    CD4+ T naive\n",
       "s4d9_cite:ACGTAACAGGTCTACT              T    CD8+ T naive\n",
       "\n",
       "[90261 rows x 2 columns]"
      ]
     },
     "execution_count": 11,
     "metadata": {},
     "output_type": "execute_result"
    }
   ],
   "source": [
    "cite_celltypes = pd.read_csv('data/trimodal/cite_harmonized_celltypes.csv', index_col=0)\n",
    "cite_celltypes"
   ]
  },
  {
   "cell_type": "code",
   "execution_count": 12,
   "id": "c6d60ec0",
   "metadata": {},
   "outputs": [
    {
     "data": {
      "text/plain": [
       "Index(['GCATTAGCATAAGCGG-1-s1d1', 'TACAGGTGTTAGAGTA-1-s1d1',\n",
       "       'AGGATCTAGGTCTACT-1-s1d1', 'GTAGAAAGTGACACAG-1-s1d1',\n",
       "       'TCCGAAAAGGATCATA-1-s1d1', 'CTCCCAATCCATTGGA-1-s1d1',\n",
       "       'GACCAATCAATTTCGG-1-s1d1', 'TTCCGGTAGTTGTAAG-1-s1d1',\n",
       "       'ACCTGTCAGGACTGGT-1-s1d1', 'TTCGATTTCAGGACAG-1-s1d1',\n",
       "       ...\n",
       "       'TCTTCCTAGCCAACCC-1-s4d9', 'TTCCACGGTTGAGGAC-1-s4d9',\n",
       "       'ATTCCTAGTCCAAGAG-1-s4d9', 'GCGGAAAGTACGCGTC-1-s4d9',\n",
       "       'TAACTTCAGATACAGT-1-s4d9', 'GAATCACCACGGAAGT-1-s4d9',\n",
       "       'GCTGGGTGTACGGATG-1-s4d9', 'TCGAAGTGTGACAGGT-1-s4d9',\n",
       "       'GCAGGCTGTTGCATAC-1-s4d9', 'ACGTAACAGGTCTACT-1-s4d9'],\n",
       "      dtype='object', length=90261)"
      ]
     },
     "execution_count": 12,
     "metadata": {},
     "output_type": "execute_result"
    }
   ],
   "source": [
    "rna_cite.obs_names"
   ]
  },
  {
   "cell_type": "code",
   "execution_count": 13,
   "id": "193edfad",
   "metadata": {},
   "outputs": [],
   "source": [
    "new_cite_obs_names = []\n",
    "for name in rna_cite.obs_names:\n",
    "    parts = name.split('-')\n",
    "    barcode = parts[0]\n",
    "    batch = parts[-1]\n",
    "    name = batch + \"_cite:\" + parts[0]\n",
    "    new_cite_obs_names.append(name)"
   ]
  },
  {
   "cell_type": "code",
   "execution_count": 14,
   "id": "52fb51f4",
   "metadata": {},
   "outputs": [],
   "source": [
    "rna_cite.obs_names = new_cite_obs_names\n",
    "adt.obs_names = new_cite_obs_names"
   ]
  },
  {
   "cell_type": "code",
   "execution_count": 15,
   "id": "83cdb623",
   "metadata": {},
   "outputs": [
    {
     "data": {
      "text/plain": [
       "AnnData object with n_obs × n_vars = 90261 × 13953\n",
       "    obs: 'GEX_n_genes_by_counts', 'GEX_pct_counts_mt', 'GEX_size_factors', 'GEX_phase', 'ADT_n_antibodies_by_counts', 'ADT_total_counts', 'ADT_iso_count', 'cell_type', 'batch', 'ADT_pseudotime_order', 'GEX_pseudotime_order', 'Samplename', 'Site', 'DonorNumber', 'Modality', 'VendorLot', 'DonorID', 'DonorAge', 'DonorBMI', 'DonorBloodType', 'DonorRace', 'Ethnicity', 'DonorGender', 'QCMeds', 'DonorSmoker', 'is_train', 'l1_cell_type', 'l2_cell_type'\n",
       "    var: 'feature_types', 'gene_id', 'highly_variable', 'means', 'dispersions', 'dispersions_norm', 'highly_variable_nbatches', 'highly_variable_intersection'\n",
       "    uns: 'dataset_id', 'genome', 'hvg', 'log1p', 'organism'\n",
       "    obsm: 'ADT_X_pca', 'ADT_X_umap', 'ADT_isotype_controls', 'GEX_X_pca', 'GEX_X_umap'\n",
       "    layers: 'counts'"
      ]
     },
     "execution_count": 15,
     "metadata": {},
     "output_type": "execute_result"
    }
   ],
   "source": [
    "rna_cite = rna_cite[cite_celltypes.index].copy()\n",
    "rna_cite.obs = rna_cite.obs.join(cite_celltypes)\n",
    "rna_cite"
   ]
  },
  {
   "cell_type": "markdown",
   "id": "207f5649",
   "metadata": {},
   "source": [
    "## Subset genes to highly variable"
   ]
  },
  {
   "cell_type": "code",
   "execution_count": 16,
   "id": "e7d2f19c",
   "metadata": {},
   "outputs": [
    {
     "data": {
      "text/plain": [
       "AnnData object with n_obs × n_vars = 159508 × 12059\n",
       "    obs: 'GEX_pct_counts_mt', 'GEX_size_factors', 'GEX_phase', 'cell_type', 'batch', 'GEX_pseudotime_order', 'Samplename', 'Site', 'DonorNumber', 'Modality', 'VendorLot', 'DonorID', 'DonorAge', 'DonorBMI', 'DonorBloodType', 'DonorRace', 'Ethnicity', 'DonorGender', 'QCMeds', 'DonorSmoker', 'l1_cell_type', 'l2_cell_type'\n",
       "    obsm: 'GEX_X_pca', 'GEX_X_umap'\n",
       "    layers: 'counts'"
      ]
     },
     "execution_count": 16,
     "metadata": {},
     "output_type": "execute_result"
    }
   ],
   "source": [
    "rna = ad.concat([rna_multiome, rna_cite])\n",
    "rna"
   ]
  },
  {
   "cell_type": "code",
   "execution_count": 17,
   "id": "3edd2b3c",
   "metadata": {},
   "outputs": [],
   "source": [
    "rna.X = rna.layers['counts'].copy()\n",
    "sc.pp.normalize_total(rna, target_sum=1e4)\n",
    "sc.pp.log1p(rna)"
   ]
  },
  {
   "cell_type": "code",
   "execution_count": 18,
   "id": "b401899e",
   "metadata": {},
   "outputs": [
    {
     "data": {
      "text/plain": [
       "AnnData object with n_obs × n_vars = 159508 × 12059\n",
       "    obs: 'GEX_pct_counts_mt', 'GEX_size_factors', 'GEX_phase', 'cell_type', 'batch', 'GEX_pseudotime_order', 'Samplename', 'Site', 'DonorNumber', 'Modality', 'VendorLot', 'DonorID', 'DonorAge', 'DonorBMI', 'DonorBloodType', 'DonorRace', 'Ethnicity', 'DonorGender', 'QCMeds', 'DonorSmoker', 'l1_cell_type', 'l2_cell_type'\n",
       "    var: 'highly_variable', 'means', 'dispersions', 'dispersions_norm', 'highly_variable_nbatches', 'highly_variable_intersection'\n",
       "    uns: 'log1p', 'hvg'\n",
       "    obsm: 'GEX_X_pca', 'GEX_X_umap'\n",
       "    layers: 'counts'"
      ]
     },
     "execution_count": 18,
     "metadata": {},
     "output_type": "execute_result"
    }
   ],
   "source": [
    "sc.pp.highly_variable_genes(rna, n_top_genes=4000, batch_key='Samplename')\n",
    "rna"
   ]
  },
  {
   "cell_type": "code",
   "execution_count": 19,
   "id": "b2486881",
   "metadata": {},
   "outputs": [],
   "source": [
    "rna_multiome = rna[rna.obs['Modality'] == 'multiome'].copy()\n",
    "rna_cite = rna[rna.obs['Modality'] == 'cite'].copy()"
   ]
  },
  {
   "cell_type": "code",
   "execution_count": 20,
   "id": "dd032f03",
   "metadata": {},
   "outputs": [],
   "source": [
    "atac_hvf = atac_hvf[rna_multiome.obs_names].copy()\n",
    "atac_hvf.obs = atac_hvf.obs.join(rna_multiome.obs[['l1_cell_type', 'l2_cell_type']])"
   ]
  },
  {
   "cell_type": "code",
   "execution_count": 21,
   "id": "481d52c0",
   "metadata": {},
   "outputs": [],
   "source": [
    "adt = adt[rna_cite.obs_names].copy()\n",
    "adt.obs = adt.obs.join(rna_cite.obs[['l1_cell_type', 'l2_cell_type']])"
   ]
  },
  {
   "cell_type": "markdown",
   "id": "e5467e4f",
   "metadata": {},
   "source": [
    "## Save files"
   ]
  },
  {
   "cell_type": "code",
   "execution_count": 22,
   "id": "9dc120a3",
   "metadata": {},
   "outputs": [],
   "source": [
    "rna_multiome.write('data/trimodal/rna_multiome_hvg.h5ad')"
   ]
  },
  {
   "cell_type": "code",
   "execution_count": 23,
   "id": "bcc4e169",
   "metadata": {},
   "outputs": [],
   "source": [
    "rna_cite.write('data/trimodal/rna_cite_hvg.h5ad')"
   ]
  },
  {
   "cell_type": "code",
   "execution_count": 24,
   "id": "50fabe51",
   "metadata": {},
   "outputs": [],
   "source": [
    "atac_hvf.write('data/trimodal/atac_hvf.h5ad')"
   ]
  },
  {
   "cell_type": "code",
   "execution_count": 25,
   "id": "2ed84e2d",
   "metadata": {},
   "outputs": [],
   "source": [
    "adt.write('data/trimodal/atac_hvf.h5ad')"
   ]
  },
  {
   "cell_type": "code",
   "execution_count": null,
   "id": "857a1bf9",
   "metadata": {},
   "outputs": [],
   "source": []
  }
 ],
 "metadata": {
  "kernelspec": {
   "display_name": "Python 3 (ipykernel)",
   "language": "python",
   "name": "python3"
  },
  "language_info": {
   "codemirror_mode": {
    "name": "ipython",
    "version": 3
   },
   "file_extension": ".py",
   "mimetype": "text/x-python",
   "name": "python",
   "nbconvert_exporter": "python",
   "pygments_lexer": "ipython3",
   "version": "3.9.13"
  }
 },
 "nbformat": 4,
 "nbformat_minor": 5
}
