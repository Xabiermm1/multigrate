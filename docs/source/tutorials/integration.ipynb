{
 "cells": [
  {
   "cell_type": "markdown",
   "id": "8564a9a9",
   "metadata": {},
   "source": [
    "# Paired integration tutorial"
   ]
  },
  {
   "cell_type": "markdown",
   "id": "b08c03d6",
   "metadata": {},
   "source": [
    "In this notebook we showcase basic Multigrate functionality and integrate a CITE-seq dataset to obtain a joint gene expression and protein abundance representation in a latent space. We use publically available dataset from NeurIPS 2021 workshop."
   ]
  },
  {
   "cell_type": "markdown",
   "id": "7d54c03b",
   "metadata": {},
   "source": [
    "The preprocessed data can be downloaded from ."
   ]
  },
  {
   "cell_type": "code",
   "execution_count": 11,
   "id": "f4ae01e0",
   "metadata": {},
   "outputs": [],
   "source": [
    "from matplotlib import pyplot as plt\n",
    "import multigrate as mtg\n",
    "import scanpy as sc"
   ]
  },
  {
   "cell_type": "code",
   "execution_count": 14,
   "id": "2507bf3e",
   "metadata": {},
   "outputs": [
    {
     "data": {
      "text/plain": [
       "AnnData object with n_obs × n_vars = 90261 × 4000\n",
       "    obs: 'GEX_n_genes_by_counts', 'GEX_pct_counts_mt', 'GEX_size_factors', 'GEX_phase', 'ADT_n_antibodies_by_counts', 'ADT_total_counts', 'ADT_iso_count', 'cell_type', 'batch', 'ADT_pseudotime_order', 'GEX_pseudotime_order', 'Samplename', 'Site', 'DonorNumber', 'Modality', 'VendorLot', 'DonorID', 'DonorAge', 'DonorBMI', 'DonorBloodType', 'DonorRace', 'Ethnicity', 'DonorGender', 'QCMeds', 'DonorSmoker', 'is_train'\n",
       "    var: 'feature_types', 'gene_id', 'highly_variable', 'means', 'dispersions', 'dispersions_norm'\n",
       "    uns: 'dataset_id', 'genome', 'hvg', 'organism'\n",
       "    obsm: 'ADT_X_pca', 'ADT_X_umap', 'ADT_isotype_controls', 'GEX_X_pca', 'GEX_X_umap'\n",
       "    layers: 'counts'"
      ]
     },
     "execution_count": 14,
     "metadata": {},
     "output_type": "execute_result"
    }
   ],
   "source": [
    "rna = sc.read('/storage/groups/ml01/projects/2021_multimil_anastasia.litinetskaya/neurips-cite/rna_hvg.h5ad')\n",
    "rna"
   ]
  },
  {
   "cell_type": "code",
   "execution_count": 15,
   "id": "25695280",
   "metadata": {},
   "outputs": [
    {
     "data": {
      "text/plain": [
       "AnnData object with n_obs × n_vars = 90261 × 134\n",
       "    obs: 'GEX_n_genes_by_counts', 'GEX_pct_counts_mt', 'GEX_size_factors', 'GEX_phase', 'ADT_n_antibodies_by_counts', 'ADT_total_counts', 'ADT_iso_count', 'cell_type', 'batch', 'ADT_pseudotime_order', 'GEX_pseudotime_order', 'Samplename', 'Site', 'DonorNumber', 'Modality', 'VendorLot', 'DonorID', 'DonorAge', 'DonorBMI', 'DonorBloodType', 'DonorRace', 'Ethnicity', 'DonorGender', 'QCMeds', 'DonorSmoker', 'is_train'\n",
       "    var: 'feature_types', 'gene_id'\n",
       "    uns: 'dataset_id', 'genome', 'organism'\n",
       "    obsm: 'ADT_X_pca', 'ADT_X_umap', 'ADT_isotype_controls', 'GEX_X_pca', 'GEX_X_umap'\n",
       "    layers: 'counts'"
      ]
     },
     "execution_count": 15,
     "metadata": {},
     "output_type": "execute_result"
    }
   ],
   "source": [
    "adt = sc.read('/storage/groups/ml01/projects/2021_multimil_anastasia.litinetskaya/neurips-cite/protein.h5ad')\n",
    "adt"
   ]
  },
  {
   "cell_type": "markdown",
   "id": "9491dd3d",
   "metadata": {},
   "source": [
    "## Prep the input AnnData object"
   ]
  },
  {
   "cell_type": "markdown",
   "id": "00844ec0",
   "metadata": {},
   "source": [
    "First, we need to organize anndatas correspoding to different datasets and modalities into 1 anndata object. In this example we have 1 CITE-seq dataset, hence we input 2 anndata objects, 1 for RNA modality, 1 for ADT modality, and specify that they are paired (```groups``` argument).\n",
    "\n",
    "Notes:\n",
    "- paired datasets have to have the same .obs_names, i.e. index"
   ]
  },
  {
   "cell_type": "code",
   "execution_count": 18,
   "id": "22c1e546",
   "metadata": {
    "scrolled": false
   },
   "outputs": [
    {
     "name": "stderr",
     "output_type": "stream",
     "text": [
      "/home/icb/anastasia.litinetskaya/miniconda3/envs/multigrate/lib/python3.8/site-packages/anndata/_core/anndata.py:1828: UserWarning: Observation names are not unique. To make them unique, call `.obs_names_make_unique`.\n",
      "  utils.warn_names_duplicates(\"obs\")\n",
      "/home/icb/anastasia.litinetskaya/miniconda3/envs/multigrate/lib/python3.8/site-packages/anndata/_core/anndata.py:1830: UserWarning: Variable names are not unique. To make them unique, call `.var_names_make_unique`.\n",
      "  utils.warn_names_duplicates(\"var\")\n"
     ]
    },
    {
     "data": {
      "text/plain": [
       "AnnData object with n_obs × n_vars = 90261 × 4134\n",
       "    obs: 'GEX_n_genes_by_counts', 'GEX_pct_counts_mt', 'GEX_size_factors', 'GEX_phase', 'ADT_n_antibodies_by_counts', 'ADT_total_counts', 'ADT_iso_count', 'cell_type', 'batch', 'ADT_pseudotime_order', 'GEX_pseudotime_order', 'Samplename', 'Site', 'DonorNumber', 'Modality', 'VendorLot', 'DonorID', 'DonorAge', 'DonorBMI', 'DonorBloodType', 'DonorRace', 'Ethnicity', 'DonorGender', 'QCMeds', 'DonorSmoker', 'is_train', 'group'\n",
       "    var: 'feature_types', 'gene_id', 'highly_variable', 'means', 'dispersions', 'dispersions_norm'\n",
       "    layers: 'counts'"
      ]
     },
     "execution_count": 18,
     "metadata": {},
     "output_type": "execute_result"
    }
   ],
   "source": [
    "adata = mtg.data.organize_multiome_anndatas(\n",
    "    adatas = [[rna], [adt]],     # a list of anndata objects per modality, RNA-seq always goes first\n",
    "    groups = [[0], [0]],          # groups that specify which anndatas are paired\n",
    "    layers = [['counts'], [None]]  # if need to use data from .layers, if None use .X\n",
    ")\n",
    "adata"
   ]
  },
  {
   "cell_type": "markdown",
   "id": "fb6c3b1e",
   "metadata": {},
   "source": [
    "From now on, we work with one concatenated anndata object ```adata```."
   ]
  },
  {
   "cell_type": "markdown",
   "id": "2b4483c3",
   "metadata": {},
   "source": [
    "If using raw counts for scRNA, we need to use NB loss (or ZINB), thus need to calculate `size_factors` first. If using normalized counts and MSE for scRNA, `rna_indices_end` does not need to be specified."
   ]
  },
  {
   "cell_type": "code",
   "execution_count": 20,
   "id": "3dae30e5",
   "metadata": {},
   "outputs": [
    {
     "name": "stdout",
     "output_type": "stream",
     "text": [
      "\u001b[34mINFO    \u001b[0m No batch_key inputted, assuming all cells are same batch                            \n",
      "\u001b[34mINFO    \u001b[0m No label_key inputted, assuming all cells have same label                           \n",
      "\u001b[34mINFO    \u001b[0m Using data from adata.X                                                             \n",
      "\u001b[34mINFO    \u001b[0m Successfully registered anndata object containing \u001b[1;36m90261\u001b[0m cells, \u001b[1;36m4134\u001b[0m vars, \u001b[1;36m1\u001b[0m batches,\n",
      "         \u001b[1;36m1\u001b[0m labels, and \u001b[1;36m0\u001b[0m proteins. Also registered \u001b[1;36m1\u001b[0m extra categorical covariates and \u001b[1;36m1\u001b[0m extra\n",
      "         continuous covariates.                                                              \n",
      "\u001b[34mINFO    \u001b[0m Please do not further modify adata until model is trained.                          \n"
     ]
    }
   ],
   "source": [
    "mtg.model.MultiVAE.setup_anndata(\n",
    "    adata,\n",
    "    rna_indices_end=4000, # how many features in the rna-seq modality\n",
    "    categorical_covariate_keys=[\"batch\"]\n",
    ")"
   ]
  },
  {
   "cell_type": "markdown",
   "id": "3d759a74",
   "metadata": {},
   "source": [
    "If categorical (e.g. sex) or continious covariates (e.g. age) are available, and you'd like to learn a latent representation disentangled from these covariates, additionally specify in setup_anndata\n",
    "```\n",
    "categorical_covariate_keys: [\"batch\"],\n",
    "continuous_covariate_keys: [\"age\"]\n",
    "```\n",
    "\n",
    "Here we want to get rid of batch effect, so we specify  `batch` as a categorical covariate."
   ]
  },
  {
   "cell_type": "markdown",
   "id": "4e3c57c1",
   "metadata": {},
   "source": [
    "# Initialize the model"
   ]
  },
  {
   "cell_type": "markdown",
   "id": "30af207f",
   "metadata": {},
   "source": [
    "Define the model here. If using raw counts for RNA-seq, use NB loss, if normalized counts, use MSE. For ADT we use CLR-normalized counts and MSE loss."
   ]
  },
  {
   "cell_type": "code",
   "execution_count": 25,
   "id": "c8cb4aa9",
   "metadata": {},
   "outputs": [
    {
     "name": "stderr",
     "output_type": "stream",
     "text": [
      "/home/icb/anastasia.litinetskaya/miniconda3/envs/multigrate/lib/python3.8/site-packages/scvi/model/base/_base_model.py:150: UserWarning: Make sure the registered X field in anndata contains unnormalized count data.\n",
      "  warnings.warn(\n"
     ]
    }
   ],
   "source": [
    "model = mtg.model.MultiVAE(\n",
    "    adata, \n",
    "    modality_lengths=[4000, 134], # how many features per modality\n",
    "    losses=['nb', 'mse'],           # what losses to use for each modality\n",
    "    loss_coefs={'kl': 1e-5,\n",
    "               'integ': 1e-2},\n",
    "    integrate_on=\"batch\",\n",
    "    z_dim=15,\n",
    "    cond_dim=10,\n",
    "    dropout=0.2,\n",
    "    n_layers_encoders=[2, 2],\n",
    "    \n",
    ")"
   ]
  },
  {
   "cell_type": "markdown",
   "id": "b123063e",
   "metadata": {},
   "source": [
    "# Train the model"
   ]
  },
  {
   "cell_type": "markdown",
   "id": "8d03b6c1",
   "metadata": {},
   "source": [
    "Can specify the number of epochs by setting `max_epochs` parameter, default is 500."
   ]
  },
  {
   "cell_type": "code",
   "execution_count": null,
   "id": "f248b740",
   "metadata": {
    "scrolled": true
   },
   "outputs": [
    {
     "name": "stderr",
     "output_type": "stream",
     "text": [
      "GPU available: True, used: True\n",
      "TPU available: False, using: 0 TPU cores\n",
      "LOCAL_RANK: 0 - CUDA_VISIBLE_DEVICES: [0]\n",
      "Set SLURM handle signals.\n"
     ]
    },
    {
     "name": "stdout",
     "output_type": "stream",
     "text": [
      "Epoch 1/200:   0%|          | 0/200 [00:00<?, ?it/s]"
     ]
    },
    {
     "name": "stderr",
     "output_type": "stream",
     "text": [
      "/home/icb/anastasia.litinetskaya/miniconda3/envs/multigrate/lib/python3.8/site-packages/scvi/distributions/_negative_binomial.py:97: UserWarning: Specified kernel cache directory could not be created! This disables kernel caching. Specified directory is /home/icb/anastasia.litinetskaya/.cache/torch/kernels. This warning will appear only once per process. (Triggered internally at  ../aten/src/ATen/native/cuda/jit_utils.cpp:860.)\n",
      "  + torch.lgamma(x + theta)\n"
     ]
    },
    {
     "name": "stdout",
     "output_type": "stream",
     "text": [
      "Epoch 1/200:   0%|          | 1/200 [00:43<2:24:34, 43.59s/it, loss=1.56e+03, v_num=1]"
     ]
    },
    {
     "name": "stderr",
     "output_type": "stream",
     "text": [
      "Metric elbo_validation improved. New best score: 1497.751\n"
     ]
    },
    {
     "name": "stdout",
     "output_type": "stream",
     "text": [
      "Epoch 2/200:   1%|          | 2/200 [01:29<2:28:27, 44.99s/it, loss=1.31e+03, v_num=1]"
     ]
    },
    {
     "name": "stderr",
     "output_type": "stream",
     "text": [
      "Metric elbo_validation improved by 222.620 >= min_delta = 0.0. New best score: 1275.130\n"
     ]
    },
    {
     "name": "stdout",
     "output_type": "stream",
     "text": [
      "Epoch 3/200:   2%|▏         | 3/200 [02:15<2:28:37, 45.27s/it, loss=1.26e+03, v_num=1]"
     ]
    },
    {
     "name": "stderr",
     "output_type": "stream",
     "text": [
      "Metric elbo_validation improved by 50.034 >= min_delta = 0.0. New best score: 1225.097\n"
     ]
    },
    {
     "name": "stdout",
     "output_type": "stream",
     "text": [
      "Epoch 4/200:   2%|▏         | 4/200 [03:01<2:28:54, 45.58s/it, loss=1.26e+03, v_num=1]"
     ]
    },
    {
     "name": "stderr",
     "output_type": "stream",
     "text": [
      "Metric elbo_validation improved by 20.984 >= min_delta = 0.0. New best score: 1204.113\n"
     ]
    },
    {
     "name": "stdout",
     "output_type": "stream",
     "text": [
      "Epoch 5/200:   2%|▎         | 5/200 [03:46<2:28:09, 45.59s/it, loss=1.24e+03, v_num=1]"
     ]
    },
    {
     "name": "stderr",
     "output_type": "stream",
     "text": [
      "Metric elbo_validation improved by 22.113 >= min_delta = 0.0. New best score: 1182.000\n"
     ]
    },
    {
     "name": "stdout",
     "output_type": "stream",
     "text": [
      "Epoch 6/200:   3%|▎         | 6/200 [04:32<2:27:30, 45.62s/it, loss=1.21e+03, v_num=1]"
     ]
    },
    {
     "name": "stderr",
     "output_type": "stream",
     "text": [
      "Metric elbo_validation improved by 19.401 >= min_delta = 0.0. New best score: 1162.599\n"
     ]
    },
    {
     "name": "stdout",
     "output_type": "stream",
     "text": [
      "Epoch 7/200:   4%|▎         | 7/200 [05:18<2:26:36, 45.58s/it, loss=1.18e+03, v_num=1]"
     ]
    },
    {
     "name": "stderr",
     "output_type": "stream",
     "text": [
      "Metric elbo_validation improved by 11.951 >= min_delta = 0.0. New best score: 1150.648\n"
     ]
    },
    {
     "name": "stdout",
     "output_type": "stream",
     "text": [
      "Epoch 8/200:   4%|▍         | 8/200 [06:03<2:25:54, 45.60s/it, loss=1.18e+03, v_num=1]"
     ]
    },
    {
     "name": "stderr",
     "output_type": "stream",
     "text": [
      "Metric elbo_validation improved by 7.703 >= min_delta = 0.0. New best score: 1142.944\n"
     ]
    },
    {
     "name": "stdout",
     "output_type": "stream",
     "text": [
      "Epoch 9/200:   4%|▍         | 9/200 [06:49<2:25:06, 45.58s/it, loss=1.15e+03, v_num=1]"
     ]
    },
    {
     "name": "stderr",
     "output_type": "stream",
     "text": [
      "Metric elbo_validation improved by 7.626 >= min_delta = 0.0. New best score: 1135.318\n"
     ]
    },
    {
     "name": "stdout",
     "output_type": "stream",
     "text": [
      "Epoch 10/200:   5%|▌         | 10/200 [07:34<2:24:22, 45.59s/it, loss=1.16e+03, v_num=1]"
     ]
    },
    {
     "name": "stderr",
     "output_type": "stream",
     "text": [
      "Metric elbo_validation improved by 7.573 >= min_delta = 0.0. New best score: 1127.745\n"
     ]
    },
    {
     "name": "stdout",
     "output_type": "stream",
     "text": [
      "Epoch 11/200:   6%|▌         | 11/200 [08:20<2:23:49, 45.66s/it, loss=1.16e+03, v_num=1]"
     ]
    },
    {
     "name": "stderr",
     "output_type": "stream",
     "text": [
      "Metric elbo_validation improved by 6.345 >= min_delta = 0.0. New best score: 1121.400\n"
     ]
    },
    {
     "name": "stdout",
     "output_type": "stream",
     "text": [
      "Epoch 12/200:   6%|▌         | 12/200 [09:06<2:23:08, 45.69s/it, loss=1.15e+03, v_num=1]"
     ]
    },
    {
     "name": "stderr",
     "output_type": "stream",
     "text": [
      "Metric elbo_validation improved by 4.943 >= min_delta = 0.0. New best score: 1116.457\n"
     ]
    },
    {
     "name": "stdout",
     "output_type": "stream",
     "text": [
      "Epoch 13/200:   6%|▋         | 13/200 [09:52<2:22:32, 45.73s/it, loss=1.15e+03, v_num=1]"
     ]
    },
    {
     "name": "stderr",
     "output_type": "stream",
     "text": [
      "Metric elbo_validation improved by 3.450 >= min_delta = 0.0. New best score: 1113.007\n"
     ]
    },
    {
     "name": "stdout",
     "output_type": "stream",
     "text": [
      "Epoch 14/200:   7%|▋         | 14/200 [10:38<2:22:03, 45.82s/it, loss=1.14e+03, v_num=1]"
     ]
    },
    {
     "name": "stderr",
     "output_type": "stream",
     "text": [
      "Metric elbo_validation improved by 3.892 >= min_delta = 0.0. New best score: 1109.115\n"
     ]
    },
    {
     "name": "stdout",
     "output_type": "stream",
     "text": [
      "Epoch 15/200:   8%|▊         | 15/200 [11:23<2:20:53, 45.70s/it, loss=1.15e+03, v_num=1]"
     ]
    },
    {
     "name": "stderr",
     "output_type": "stream",
     "text": [
      "Metric elbo_validation improved by 2.233 >= min_delta = 0.0. New best score: 1106.883\n"
     ]
    },
    {
     "name": "stdout",
     "output_type": "stream",
     "text": [
      "Epoch 16/200:   8%|▊         | 16/200 [12:09<2:20:03, 45.67s/it, loss=1.12e+03, v_num=1]"
     ]
    },
    {
     "name": "stderr",
     "output_type": "stream",
     "text": [
      "Metric elbo_validation improved by 3.281 >= min_delta = 0.0. New best score: 1103.602\n"
     ]
    },
    {
     "name": "stdout",
     "output_type": "stream",
     "text": [
      "Epoch 17/200:   8%|▊         | 17/200 [12:55<2:19:05, 45.60s/it, loss=1.12e+03, v_num=1]"
     ]
    },
    {
     "name": "stderr",
     "output_type": "stream",
     "text": [
      "Metric elbo_validation improved by 2.398 >= min_delta = 0.0. New best score: 1101.204\n"
     ]
    },
    {
     "name": "stdout",
     "output_type": "stream",
     "text": [
      "Epoch 18/200:   9%|▉         | 18/200 [13:40<2:18:29, 45.66s/it, loss=1.12e+03, v_num=1]"
     ]
    },
    {
     "name": "stderr",
     "output_type": "stream",
     "text": [
      "Metric elbo_validation improved by 2.218 >= min_delta = 0.0. New best score: 1098.986\n"
     ]
    },
    {
     "name": "stdout",
     "output_type": "stream",
     "text": [
      "Epoch 19/200:  10%|▉         | 19/200 [14:26<2:17:44, 45.66s/it, loss=1.1e+03, v_num=1] "
     ]
    },
    {
     "name": "stderr",
     "output_type": "stream",
     "text": [
      "Metric elbo_validation improved by 1.172 >= min_delta = 0.0. New best score: 1097.815\n"
     ]
    },
    {
     "name": "stdout",
     "output_type": "stream",
     "text": [
      "Epoch 20/200:  10%|█         | 20/200 [15:12<2:17:13, 45.74s/it, loss=1.12e+03, v_num=1]"
     ]
    },
    {
     "name": "stderr",
     "output_type": "stream",
     "text": [
      "Metric elbo_validation improved by 2.229 >= min_delta = 0.0. New best score: 1095.586\n"
     ]
    },
    {
     "name": "stdout",
     "output_type": "stream",
     "text": [
      "Epoch 21/200:  10%|█         | 21/200 [15:57<2:16:14, 45.67s/it, loss=1.14e+03, v_num=1]"
     ]
    },
    {
     "name": "stderr",
     "output_type": "stream",
     "text": [
      "Metric elbo_validation improved by 1.500 >= min_delta = 0.0. New best score: 1094.086\n"
     ]
    },
    {
     "name": "stdout",
     "output_type": "stream",
     "text": [
      "Epoch 22/200:  11%|█         | 22/200 [16:42<2:15:03, 45.53s/it, loss=1.11e+03, v_num=1]"
     ]
    },
    {
     "name": "stderr",
     "output_type": "stream",
     "text": [
      "Metric elbo_validation improved by 1.744 >= min_delta = 0.0. New best score: 1092.342\n"
     ]
    },
    {
     "name": "stdout",
     "output_type": "stream",
     "text": [
      "Epoch 23/200:  12%|█▏        | 23/200 [17:28<2:14:08, 45.47s/it, loss=1.14e+03, v_num=1]"
     ]
    },
    {
     "name": "stderr",
     "output_type": "stream",
     "text": [
      "Metric elbo_validation improved by 1.193 >= min_delta = 0.0. New best score: 1091.150\n"
     ]
    },
    {
     "name": "stdout",
     "output_type": "stream",
     "text": [
      "Epoch 24/200:  12%|█▏        | 24/200 [18:13<2:13:20, 45.46s/it, loss=1.11e+03, v_num=1]"
     ]
    },
    {
     "name": "stderr",
     "output_type": "stream",
     "text": [
      "Metric elbo_validation improved by 1.826 >= min_delta = 0.0. New best score: 1089.323\n"
     ]
    },
    {
     "name": "stdout",
     "output_type": "stream",
     "text": [
      "Epoch 25/200:  12%|█▎        | 25/200 [18:58<2:12:07, 45.30s/it, loss=1.1e+03, v_num=1] "
     ]
    },
    {
     "name": "stderr",
     "output_type": "stream",
     "text": [
      "Metric elbo_validation improved by 1.325 >= min_delta = 0.0. New best score: 1087.998\n"
     ]
    },
    {
     "name": "stdout",
     "output_type": "stream",
     "text": [
      "Epoch 26/200:  13%|█▎        | 26/200 [19:43<2:11:24, 45.31s/it, loss=1.12e+03, v_num=1]"
     ]
    },
    {
     "name": "stderr",
     "output_type": "stream",
     "text": [
      "Metric elbo_validation improved by 1.297 >= min_delta = 0.0. New best score: 1086.701\n"
     ]
    },
    {
     "name": "stdout",
     "output_type": "stream",
     "text": [
      "Epoch 27/200:  14%|█▎        | 27/200 [20:29<2:10:58, 45.43s/it, loss=1.11e+03, v_num=1]"
     ]
    },
    {
     "name": "stderr",
     "output_type": "stream",
     "text": [
      "Metric elbo_validation improved by 1.468 >= min_delta = 0.0. New best score: 1085.234\n"
     ]
    },
    {
     "name": "stdout",
     "output_type": "stream",
     "text": [
      "Epoch 28/200:  14%|█▍        | 28/200 [21:15<2:10:25, 45.50s/it, loss=1.12e+03, v_num=1]"
     ]
    },
    {
     "name": "stderr",
     "output_type": "stream",
     "text": [
      "Metric elbo_validation improved by 1.207 >= min_delta = 0.0. New best score: 1084.026\n"
     ]
    },
    {
     "name": "stdout",
     "output_type": "stream",
     "text": [
      "Epoch 29/200:  14%|█▍        | 29/200 [22:00<2:09:41, 45.51s/it, loss=1.12e+03, v_num=1]"
     ]
    },
    {
     "name": "stderr",
     "output_type": "stream",
     "text": [
      "Metric elbo_validation improved by 0.990 >= min_delta = 0.0. New best score: 1083.036\n"
     ]
    },
    {
     "name": "stdout",
     "output_type": "stream",
     "text": [
      "Epoch 30/200:  15%|█▌        | 30/200 [22:46<2:08:44, 45.44s/it, loss=1.1e+03, v_num=1] "
     ]
    },
    {
     "name": "stderr",
     "output_type": "stream",
     "text": [
      "Metric elbo_validation improved by 1.123 >= min_delta = 0.0. New best score: 1081.913\n"
     ]
    },
    {
     "name": "stdout",
     "output_type": "stream",
     "text": [
      "Epoch 31/200:  16%|█▌        | 31/200 [23:31<2:07:58, 45.43s/it, loss=1.12e+03, v_num=1]"
     ]
    },
    {
     "name": "stderr",
     "output_type": "stream",
     "text": [
      "Metric elbo_validation improved by 1.235 >= min_delta = 0.0. New best score: 1080.679\n"
     ]
    },
    {
     "name": "stdout",
     "output_type": "stream",
     "text": [
      "Epoch 32/200:  16%|█▌        | 32/200 [24:17<2:07:31, 45.54s/it, loss=1.11e+03, v_num=1]"
     ]
    },
    {
     "name": "stderr",
     "output_type": "stream",
     "text": [
      "Metric elbo_validation improved by 0.915 >= min_delta = 0.0. New best score: 1079.763\n"
     ]
    },
    {
     "name": "stdout",
     "output_type": "stream",
     "text": [
      "Epoch 33/200:  16%|█▋        | 33/200 [25:03<2:07:06, 45.67s/it, loss=1.12e+03, v_num=1]"
     ]
    },
    {
     "name": "stderr",
     "output_type": "stream",
     "text": [
      "Metric elbo_validation improved by 1.201 >= min_delta = 0.0. New best score: 1078.562\n"
     ]
    },
    {
     "name": "stdout",
     "output_type": "stream",
     "text": [
      "Epoch 34/200:  17%|█▋        | 34/200 [25:48<2:06:18, 45.66s/it, loss=1.11e+03, v_num=1]"
     ]
    },
    {
     "name": "stderr",
     "output_type": "stream",
     "text": [
      "Metric elbo_validation improved by 0.656 >= min_delta = 0.0. New best score: 1077.906\n"
     ]
    },
    {
     "name": "stdout",
     "output_type": "stream",
     "text": [
      "Epoch 35/200:  18%|█▊        | 35/200 [26:34<2:05:31, 45.65s/it, loss=1.12e+03, v_num=1]"
     ]
    },
    {
     "name": "stderr",
     "output_type": "stream",
     "text": [
      "Metric elbo_validation improved by 0.622 >= min_delta = 0.0. New best score: 1077.284\n"
     ]
    },
    {
     "name": "stdout",
     "output_type": "stream",
     "text": [
      "Epoch 36/200:  18%|█▊        | 36/200 [27:20<2:04:50, 45.67s/it, loss=1.11e+03, v_num=1]"
     ]
    },
    {
     "name": "stderr",
     "output_type": "stream",
     "text": [
      "Metric elbo_validation improved by 1.740 >= min_delta = 0.0. New best score: 1075.545\n"
     ]
    },
    {
     "name": "stdout",
     "output_type": "stream",
     "text": [
      "Epoch 37/200:  18%|█▊        | 37/200 [28:06<2:04:16, 45.75s/it, loss=1.11e+03, v_num=1]"
     ]
    },
    {
     "name": "stderr",
     "output_type": "stream",
     "text": [
      "Metric elbo_validation improved by 0.490 >= min_delta = 0.0. New best score: 1075.055\n"
     ]
    },
    {
     "name": "stdout",
     "output_type": "stream",
     "text": [
      "Epoch 38/200:  19%|█▉        | 38/200 [28:52<2:03:36, 45.78s/it, loss=1.1e+03, v_num=1] "
     ]
    },
    {
     "name": "stderr",
     "output_type": "stream",
     "text": [
      "Metric elbo_validation improved by 0.895 >= min_delta = 0.0. New best score: 1074.160\n"
     ]
    },
    {
     "name": "stdout",
     "output_type": "stream",
     "text": [
      "Epoch 39/200:  20%|█▉        | 39/200 [29:37<2:02:59, 45.84s/it, loss=1.1e+03, v_num=1]"
     ]
    },
    {
     "name": "stderr",
     "output_type": "stream",
     "text": [
      "Metric elbo_validation improved by 0.925 >= min_delta = 0.0. New best score: 1073.235\n"
     ]
    },
    {
     "name": "stdout",
     "output_type": "stream",
     "text": [
      "Epoch 40/200:  20%|██        | 40/200 [30:24<2:02:35, 45.97s/it, loss=1.11e+03, v_num=1]"
     ]
    },
    {
     "name": "stderr",
     "output_type": "stream",
     "text": [
      "Metric elbo_validation improved by 0.826 >= min_delta = 0.0. New best score: 1072.409\n"
     ]
    },
    {
     "name": "stdout",
     "output_type": "stream",
     "text": [
      "Epoch 41/200:  20%|██        | 41/200 [31:10<2:01:40, 45.91s/it, loss=1.08e+03, v_num=1]"
     ]
    },
    {
     "name": "stderr",
     "output_type": "stream",
     "text": [
      "Metric elbo_validation improved by 0.609 >= min_delta = 0.0. New best score: 1071.800\n"
     ]
    },
    {
     "name": "stdout",
     "output_type": "stream",
     "text": [
      "Epoch 42/200:  21%|██        | 42/200 [31:56<2:01:14, 46.04s/it, loss=1.1e+03, v_num=1] "
     ]
    },
    {
     "name": "stderr",
     "output_type": "stream",
     "text": [
      "Metric elbo_validation improved by 0.752 >= min_delta = 0.0. New best score: 1071.048\n"
     ]
    },
    {
     "name": "stdout",
     "output_type": "stream",
     "text": [
      "Epoch 43/200:  22%|██▏       | 43/200 [32:41<1:59:49, 45.80s/it, loss=1.09e+03, v_num=1]"
     ]
    },
    {
     "name": "stderr",
     "output_type": "stream",
     "text": [
      "Metric elbo_validation improved by 0.616 >= min_delta = 0.0. New best score: 1070.431\n"
     ]
    },
    {
     "name": "stdout",
     "output_type": "stream",
     "text": [
      "Epoch 44/200:  22%|██▏       | 44/200 [33:26<1:58:41, 45.65s/it, loss=1.1e+03, v_num=1] "
     ]
    },
    {
     "name": "stderr",
     "output_type": "stream",
     "text": [
      "Metric elbo_validation improved by 0.873 >= min_delta = 0.0. New best score: 1069.559\n"
     ]
    },
    {
     "name": "stdout",
     "output_type": "stream",
     "text": [
      "Epoch 45/200:  22%|██▎       | 45/200 [34:12<1:57:28, 45.47s/it, loss=1.09e+03, v_num=1]"
     ]
    },
    {
     "name": "stderr",
     "output_type": "stream",
     "text": [
      "Metric elbo_validation improved by 0.631 >= min_delta = 0.0. New best score: 1068.927\n"
     ]
    },
    {
     "name": "stdout",
     "output_type": "stream",
     "text": [
      "Epoch 46/200:  23%|██▎       | 46/200 [34:57<1:56:42, 45.47s/it, loss=1.1e+03, v_num=1] "
     ]
    },
    {
     "name": "stderr",
     "output_type": "stream",
     "text": [
      "Metric elbo_validation improved by 0.744 >= min_delta = 0.0. New best score: 1068.183\n"
     ]
    },
    {
     "name": "stdout",
     "output_type": "stream",
     "text": [
      "Epoch 47/200:  24%|██▎       | 47/200 [35:41<1:55:10, 45.17s/it, loss=1.1e+03, v_num=1]"
     ]
    },
    {
     "name": "stderr",
     "output_type": "stream",
     "text": [
      "Metric elbo_validation improved by 0.421 >= min_delta = 0.0. New best score: 1067.762\n"
     ]
    },
    {
     "name": "stdout",
     "output_type": "stream",
     "text": [
      "Epoch 48/200:  24%|██▍       | 48/200 [36:25<1:53:33, 44.82s/it, loss=1.08e+03, v_num=1]"
     ]
    },
    {
     "name": "stderr",
     "output_type": "stream",
     "text": [
      "Metric elbo_validation improved by 0.626 >= min_delta = 0.0. New best score: 1067.136\n"
     ]
    },
    {
     "name": "stdout",
     "output_type": "stream",
     "text": [
      "Epoch 49/200:  24%|██▍       | 49/200 [37:09<1:51:39, 44.37s/it, loss=1.07e+03, v_num=1]"
     ]
    },
    {
     "name": "stderr",
     "output_type": "stream",
     "text": [
      "Metric elbo_validation improved by 0.841 >= min_delta = 0.0. New best score: 1066.295\n"
     ]
    },
    {
     "name": "stdout",
     "output_type": "stream",
     "text": [
      "Epoch 50/200:  25%|██▌       | 50/200 [38:05<1:59:35, 47.83s/it, loss=1.08e+03, v_num=1]"
     ]
    },
    {
     "name": "stderr",
     "output_type": "stream",
     "text": [
      "Metric elbo_validation improved by 0.400 >= min_delta = 0.0. New best score: 1065.895\n"
     ]
    },
    {
     "name": "stdout",
     "output_type": "stream",
     "text": [
      "Epoch 51/200:  26%|██▌       | 51/200 [38:49<1:56:32, 46.93s/it, loss=1.09e+03, v_num=1]"
     ]
    },
    {
     "name": "stderr",
     "output_type": "stream",
     "text": [
      "Metric elbo_validation improved by 0.297 >= min_delta = 0.0. New best score: 1065.597\n"
     ]
    },
    {
     "name": "stdout",
     "output_type": "stream",
     "text": [
      "Epoch 52/200:  26%|██▌       | 52/200 [39:34<1:53:58, 46.20s/it, loss=1.11e+03, v_num=1]"
     ]
    },
    {
     "name": "stderr",
     "output_type": "stream",
     "text": [
      "Metric elbo_validation improved by 0.689 >= min_delta = 0.0. New best score: 1064.909\n"
     ]
    },
    {
     "name": "stdout",
     "output_type": "stream",
     "text": [
      "Epoch 53/200:  26%|██▋       | 53/200 [40:19<1:52:29, 45.92s/it, loss=1.07e+03, v_num=1]"
     ]
    },
    {
     "name": "stderr",
     "output_type": "stream",
     "text": [
      "Metric elbo_validation improved by 0.308 >= min_delta = 0.0. New best score: 1064.601\n"
     ]
    },
    {
     "name": "stdout",
     "output_type": "stream",
     "text": [
      "Epoch 54/200:  27%|██▋       | 54/200 [41:04<1:51:05, 45.66s/it, loss=1.09e+03, v_num=1]"
     ]
    },
    {
     "name": "stderr",
     "output_type": "stream",
     "text": [
      "Metric elbo_validation improved by 0.848 >= min_delta = 0.0. New best score: 1063.753\n"
     ]
    },
    {
     "name": "stdout",
     "output_type": "stream",
     "text": [
      "Epoch 55/200:  28%|██▊       | 55/200 [41:49<1:49:30, 45.32s/it, loss=1.08e+03, v_num=1]"
     ]
    },
    {
     "name": "stderr",
     "output_type": "stream",
     "text": [
      "Metric elbo_validation improved by 0.431 >= min_delta = 0.0. New best score: 1063.322\n"
     ]
    },
    {
     "name": "stdout",
     "output_type": "stream",
     "text": [
      "Epoch 56/200:  28%|██▊       | 56/200 [43:00<2:07:29, 53.12s/it, loss=1.08e+03, v_num=1]"
     ]
    },
    {
     "name": "stderr",
     "output_type": "stream",
     "text": [
      "Metric elbo_validation improved by 0.597 >= min_delta = 0.0. New best score: 1062.724\n"
     ]
    },
    {
     "name": "stdout",
     "output_type": "stream",
     "text": [
      "Epoch 57/200:  28%|██▊       | 57/200 [43:54<2:07:02, 53.31s/it, loss=1.1e+03, v_num=1] "
     ]
    },
    {
     "name": "stderr",
     "output_type": "stream",
     "text": [
      "Metric elbo_validation improved by 0.083 >= min_delta = 0.0. New best score: 1062.641\n"
     ]
    },
    {
     "name": "stdout",
     "output_type": "stream",
     "text": [
      "Epoch 58/200:  29%|██▉       | 58/200 [44:53<2:10:14, 55.03s/it, loss=1.08e+03, v_num=1]"
     ]
    },
    {
     "name": "stderr",
     "output_type": "stream",
     "text": [
      "Metric elbo_validation improved by 0.630 >= min_delta = 0.0. New best score: 1062.011\n"
     ]
    },
    {
     "name": "stdout",
     "output_type": "stream",
     "text": [
      "Epoch 59/200:  30%|██▉       | 59/200 [45:55<2:14:08, 57.08s/it, loss=1.09e+03, v_num=1]"
     ]
    },
    {
     "name": "stderr",
     "output_type": "stream",
     "text": [
      "Metric elbo_validation improved by 0.372 >= min_delta = 0.0. New best score: 1061.640\n"
     ]
    },
    {
     "name": "stdout",
     "output_type": "stream",
     "text": [
      "Epoch 60/200:  30%|███       | 60/200 [46:38<2:03:18, 52.85s/it, loss=1.08e+03, v_num=1]"
     ]
    },
    {
     "name": "stderr",
     "output_type": "stream",
     "text": [
      "Metric elbo_validation improved by 0.455 >= min_delta = 0.0. New best score: 1061.184\n"
     ]
    },
    {
     "name": "stdout",
     "output_type": "stream",
     "text": [
      "Epoch 61/200:  30%|███       | 61/200 [47:22<1:56:40, 50.36s/it, loss=1.09e+03, v_num=1]"
     ]
    },
    {
     "name": "stderr",
     "output_type": "stream",
     "text": [
      "Metric elbo_validation improved by 0.436 >= min_delta = 0.0. New best score: 1060.748\n"
     ]
    },
    {
     "name": "stdout",
     "output_type": "stream",
     "text": [
      "Epoch 62/200:  31%|███       | 62/200 [48:09<1:53:19, 49.27s/it, loss=1.08e+03, v_num=1]"
     ]
    },
    {
     "name": "stderr",
     "output_type": "stream",
     "text": [
      "Metric elbo_validation improved by 0.023 >= min_delta = 0.0. New best score: 1060.725\n"
     ]
    },
    {
     "name": "stdout",
     "output_type": "stream",
     "text": [
      "Epoch 63/200:  32%|███▏      | 63/200 [48:54<1:49:46, 48.08s/it, loss=1.08e+03, v_num=1]"
     ]
    },
    {
     "name": "stderr",
     "output_type": "stream",
     "text": [
      "Metric elbo_validation improved by 0.143 >= min_delta = 0.0. New best score: 1060.582\n"
     ]
    },
    {
     "name": "stdout",
     "output_type": "stream",
     "text": [
      "Epoch 64/200:  32%|███▏      | 64/200 [49:40<1:47:14, 47.31s/it, loss=1.08e+03, v_num=1]"
     ]
    },
    {
     "name": "stderr",
     "output_type": "stream",
     "text": [
      "Metric elbo_validation improved by 0.844 >= min_delta = 0.0. New best score: 1059.738\n"
     ]
    },
    {
     "name": "stdout",
     "output_type": "stream",
     "text": [
      "Epoch 66/200:  33%|███▎      | 66/200 [51:11<1:43:33, 46.37s/it, loss=1.07e+03, v_num=1]"
     ]
    },
    {
     "name": "stderr",
     "output_type": "stream",
     "text": [
      "Metric elbo_validation improved by 0.441 >= min_delta = 0.0. New best score: 1059.297\n"
     ]
    },
    {
     "name": "stdout",
     "output_type": "stream",
     "text": [
      "Epoch 67/200:  34%|███▎      | 67/200 [51:56<1:41:53, 45.97s/it, loss=1.09e+03, v_num=1]"
     ]
    },
    {
     "name": "stderr",
     "output_type": "stream",
     "text": [
      "Metric elbo_validation improved by 0.191 >= min_delta = 0.0. New best score: 1059.107\n"
     ]
    },
    {
     "name": "stdout",
     "output_type": "stream",
     "text": [
      "Epoch 68/200:  34%|███▍      | 68/200 [52:40<1:39:58, 45.44s/it, loss=1.11e+03, v_num=1]"
     ]
    },
    {
     "name": "stderr",
     "output_type": "stream",
     "text": [
      "Metric elbo_validation improved by 0.342 >= min_delta = 0.0. New best score: 1058.765\n"
     ]
    },
    {
     "name": "stdout",
     "output_type": "stream",
     "text": [
      "Epoch 69/200:  34%|███▍      | 69/200 [53:25<1:38:58, 45.33s/it, loss=1.09e+03, v_num=1]"
     ]
    },
    {
     "name": "stderr",
     "output_type": "stream",
     "text": [
      "Metric elbo_validation improved by 0.414 >= min_delta = 0.0. New best score: 1058.350\n"
     ]
    },
    {
     "name": "stdout",
     "output_type": "stream",
     "text": [
      "Epoch 70/200:  35%|███▌      | 70/200 [54:11<1:38:32, 45.48s/it, loss=1.08e+03, v_num=1]"
     ]
    },
    {
     "name": "stderr",
     "output_type": "stream",
     "text": [
      "Metric elbo_validation improved by 0.437 >= min_delta = 0.0. New best score: 1057.913\n"
     ]
    },
    {
     "name": "stdout",
     "output_type": "stream",
     "text": [
      "Epoch 71/200:  36%|███▌      | 71/200 [54:56<1:37:32, 45.36s/it, loss=1.07e+03, v_num=1]"
     ]
    },
    {
     "name": "stderr",
     "output_type": "stream",
     "text": [
      "Metric elbo_validation improved by 0.135 >= min_delta = 0.0. New best score: 1057.779\n"
     ]
    },
    {
     "name": "stdout",
     "output_type": "stream",
     "text": [
      "Epoch 72/200:  36%|███▌      | 72/200 [55:41<1:36:45, 45.36s/it, loss=1.06e+03, v_num=1]"
     ]
    },
    {
     "name": "stderr",
     "output_type": "stream",
     "text": [
      "Metric elbo_validation improved by 0.463 >= min_delta = 0.0. New best score: 1057.316\n"
     ]
    },
    {
     "name": "stdout",
     "output_type": "stream",
     "text": [
      "Epoch 73/200:  36%|███▋      | 73/200 [56:27<1:35:42, 45.21s/it, loss=1.09e+03, v_num=1]"
     ]
    },
    {
     "name": "stderr",
     "output_type": "stream",
     "text": [
      "Metric elbo_validation improved by 0.028 >= min_delta = 0.0. New best score: 1057.288\n"
     ]
    },
    {
     "name": "stdout",
     "output_type": "stream",
     "text": [
      "Epoch 74/200:  37%|███▋      | 74/200 [57:12<1:35:15, 45.36s/it, loss=1.09e+03, v_num=1]"
     ]
    },
    {
     "name": "stderr",
     "output_type": "stream",
     "text": [
      "Metric elbo_validation improved by 0.525 >= min_delta = 0.0. New best score: 1056.764\n"
     ]
    },
    {
     "name": "stdout",
     "output_type": "stream",
     "text": [
      "Epoch 75/200:  38%|███▊      | 75/200 [57:57<1:34:09, 45.20s/it, loss=1.09e+03, v_num=1]"
     ]
    },
    {
     "name": "stderr",
     "output_type": "stream",
     "text": [
      "Metric elbo_validation improved by 0.208 >= min_delta = 0.0. New best score: 1056.556\n"
     ]
    },
    {
     "name": "stdout",
     "output_type": "stream",
     "text": [
      "Epoch 76/200:  38%|███▊      | 76/200 [58:42<1:33:19, 45.16s/it, loss=1.09e+03, v_num=1]"
     ]
    },
    {
     "name": "stderr",
     "output_type": "stream",
     "text": [
      "Metric elbo_validation improved by 0.039 >= min_delta = 0.0. New best score: 1056.517\n"
     ]
    },
    {
     "name": "stdout",
     "output_type": "stream",
     "text": [
      "Epoch 77/200:  38%|███▊      | 77/200 [59:27<1:32:18, 45.03s/it, loss=1.09e+03, v_num=1]"
     ]
    },
    {
     "name": "stderr",
     "output_type": "stream",
     "text": [
      "Metric elbo_validation improved by 0.252 >= min_delta = 0.0. New best score: 1056.265\n"
     ]
    },
    {
     "name": "stdout",
     "output_type": "stream",
     "text": [
      "Epoch 79/200:  40%|███▉      | 79/200 [1:00:58<1:31:33, 45.40s/it, loss=1.06e+03, v_num=1]"
     ]
    },
    {
     "name": "stderr",
     "output_type": "stream",
     "text": [
      "Metric elbo_validation improved by 0.399 >= min_delta = 0.0. New best score: 1055.866\n"
     ]
    },
    {
     "name": "stdout",
     "output_type": "stream",
     "text": [
      "Epoch 80/200:  40%|████      | 80/200 [1:01:44<1:31:07, 45.56s/it, loss=1.07e+03, v_num=1]"
     ]
    },
    {
     "name": "stderr",
     "output_type": "stream",
     "text": [
      "Metric elbo_validation improved by 0.383 >= min_delta = 0.0. New best score: 1055.483\n"
     ]
    },
    {
     "name": "stdout",
     "output_type": "stream",
     "text": [
      "Epoch 81/200:  40%|████      | 81/200 [1:02:30<1:30:21, 45.56s/it, loss=1.07e+03, v_num=1]"
     ]
    },
    {
     "name": "stderr",
     "output_type": "stream",
     "text": [
      "Metric elbo_validation improved by 0.142 >= min_delta = 0.0. New best score: 1055.341\n"
     ]
    },
    {
     "name": "stdout",
     "output_type": "stream",
     "text": [
      "Epoch 82/200:  41%|████      | 82/200 [1:03:15<1:29:17, 45.40s/it, loss=1.09e+03, v_num=1]"
     ]
    },
    {
     "name": "stderr",
     "output_type": "stream",
     "text": [
      "Metric elbo_validation improved by 0.293 >= min_delta = 0.0. New best score: 1055.049\n"
     ]
    },
    {
     "name": "stdout",
     "output_type": "stream",
     "text": [
      "Epoch 83/200:  42%|████▏     | 83/200 [1:04:00<1:28:21, 45.31s/it, loss=1.08e+03, v_num=1]"
     ]
    },
    {
     "name": "stderr",
     "output_type": "stream",
     "text": [
      "Metric elbo_validation improved by 0.477 >= min_delta = 0.0. New best score: 1054.572\n"
     ]
    },
    {
     "name": "stdout",
     "output_type": "stream",
     "text": [
      "Epoch 85/200:  42%|████▎     | 85/200 [1:05:31<1:27:09, 45.48s/it, loss=1.08e+03, v_num=1]"
     ]
    },
    {
     "name": "stderr",
     "output_type": "stream",
     "text": [
      "Metric elbo_validation improved by 0.266 >= min_delta = 0.0. New best score: 1054.306\n"
     ]
    },
    {
     "name": "stdout",
     "output_type": "stream",
     "text": [
      "Epoch 86/200:  43%|████▎     | 86/200 [1:06:16<1:26:19, 45.43s/it, loss=1.09e+03, v_num=1]"
     ]
    },
    {
     "name": "stderr",
     "output_type": "stream",
     "text": [
      "Metric elbo_validation improved by 0.212 >= min_delta = 0.0. New best score: 1054.094\n"
     ]
    },
    {
     "name": "stdout",
     "output_type": "stream",
     "text": [
      "Epoch 87/200:  44%|████▎     | 87/200 [1:07:01<1:25:25, 45.36s/it, loss=1.07e+03, v_num=1]"
     ]
    },
    {
     "name": "stderr",
     "output_type": "stream",
     "text": [
      "Metric elbo_validation improved by 0.182 >= min_delta = 0.0. New best score: 1053.913\n"
     ]
    },
    {
     "name": "stdout",
     "output_type": "stream",
     "text": [
      "Epoch 88/200:  44%|████▍     | 88/200 [1:07:47<1:24:52, 45.47s/it, loss=1.09e+03, v_num=1]"
     ]
    },
    {
     "name": "stderr",
     "output_type": "stream",
     "text": [
      "Metric elbo_validation improved by 0.050 >= min_delta = 0.0. New best score: 1053.863\n"
     ]
    },
    {
     "name": "stdout",
     "output_type": "stream",
     "text": [
      "Epoch 89/200:  44%|████▍     | 89/200 [1:08:33<1:24:15, 45.54s/it, loss=1.07e+03, v_num=1]"
     ]
    },
    {
     "name": "stderr",
     "output_type": "stream",
     "text": [
      "Metric elbo_validation improved by 0.372 >= min_delta = 0.0. New best score: 1053.491\n"
     ]
    },
    {
     "name": "stdout",
     "output_type": "stream",
     "text": [
      "\r\n",
      "Epoch 90/200:  44%|████▍     | 89/200 [1:08:35<1:24:15, 45.54s/it, loss=1.07e+03, v_num=1]"
     ]
    }
   ],
   "source": [
    "model.train(max_epochs=200)"
   ]
  },
  {
   "cell_type": "markdown",
   "id": "959a5550",
   "metadata": {},
   "source": [
    "Plot losses."
   ]
  },
  {
   "cell_type": "code",
   "execution_count": null,
   "id": "5e004f85",
   "metadata": {},
   "outputs": [],
   "source": [
    "model.plot_losses()"
   ]
  },
  {
   "cell_type": "markdown",
   "id": "2afbd017",
   "metadata": {},
   "source": [
    "# Inference"
   ]
  },
  {
   "cell_type": "markdown",
   "id": "39c1d4f8",
   "metadata": {},
   "source": [
    "Get the latent representation."
   ]
  },
  {
   "cell_type": "code",
   "execution_count": null,
   "id": "41c7d9b2",
   "metadata": {},
   "outputs": [],
   "source": [
    "model.get_latent_representation()\n",
    "adata"
   ]
  },
  {
   "cell_type": "markdown",
   "id": "38e21e47",
   "metadata": {},
   "source": [
    "Visualize results."
   ]
  },
  {
   "cell_type": "code",
   "execution_count": null,
   "id": "02b050b9",
   "metadata": {},
   "outputs": [],
   "source": [
    "sc.pp.neighbors(adata, use_rep='latent')\n",
    "sc.tl.umap(adata)\n",
    "sc.pl.umap(adata, color='cell_type')"
   ]
  },
  {
   "cell_type": "code",
   "execution_count": null,
   "id": "04ca78b9",
   "metadata": {},
   "outputs": [],
   "source": []
  }
 ],
 "metadata": {
  "kernelspec": {
   "display_name": "Python 3 (ipykernel)",
   "language": "python",
   "name": "python3"
  },
  "language_info": {
   "codemirror_mode": {
    "name": "ipython",
    "version": 3
   },
   "file_extension": ".py",
   "mimetype": "text/x-python",
   "name": "python",
   "nbconvert_exporter": "python",
   "pygments_lexer": "ipython3",
   "version": "3.8.13"
  }
 },
 "nbformat": 4,
 "nbformat_minor": 5
}
